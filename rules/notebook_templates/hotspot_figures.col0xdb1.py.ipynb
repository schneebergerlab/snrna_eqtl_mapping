{
 "cells": [
  {
   "cell_type": "code",
   "execution_count": 1,
   "id": "80f93ab0",
   "metadata": {
    "tags": [
     "snakemake-job-properties"
    ]
   },
   "outputs": [],
   "source": [
    "\n",
    "######## snakemake preamble start (automatically inserted, do not edit) ########\n",
    "import sys; sys.path.extend(['/netscratch/dep_mercier/grp_schneeberger/bin/bin_matt/conda_envs/snakemake8/lib/python3.12/site-packages', '/netscratch/dep_mercier/grp_schneeberger/projects/Athal/Matt_snRNAseq_analysis/diploid_starsolo_pipeline/pipeline/../rules', '/netscratch/dep_mercier/grp_schneeberger/projects/Athal/Matt_snRNAseq_analysis/diploid_starsolo_pipeline/pipeline', '/netscratch/dep_mercier/grp_schneeberger/bin/bin_matt/conda_envs/snakemake8/bin', '/netscratch/dep_mercier/grp_schneeberger/bin/bin_matt/conda_envs/snakemake8/lib/python3.12', '/netscratch/dep_mercier/grp_schneeberger/bin/bin_matt/conda_envs/snakemake8/lib/python3.12/lib-dynload', '/netscratch/dep_mercier/grp_schneeberger/bin/bin_matt/conda_envs/snakemake8/lib/python3.12/site-packages', '/netscratch/dep_mercier/grp_schneeberger/projects/Athal/Matt_snRNAseq_analysis/diploid_starsolo_pipeline/rules/notebook_templates']); import pickle; snakemake = pickle.loads(b\"\\x80\\x04\\x95\\\\\\n\\x00\\x00\\x00\\x00\\x00\\x00\\x8c\\x10snakemake.script\\x94\\x8c\\tSnakemake\\x94\\x93\\x94)\\x81\\x94}\\x94(\\x8c\\x05input\\x94\\x8c\\x0csnakemake.io\\x94\\x8c\\nInputFiles\\x94\\x93\\x94)\\x81\\x94(\\x8c6aligned_data/diploid/col0xdb1.col0__vs__db1.sorted.bam\\x94\\x8c\\x19../annotations/col0_cc.fa\\x94\\x8c\\x15../annotations/db1.fa\\x94\\x8c\\x1a../annotations/col0_cc.gtf\\x94\\x8c\\x15cb_stats/col0xdb1.tsv\\x94\\x8c1cb_crossovers/col0xdb1.col0__vs__db1.co_probs.tsv\\x94\\x8c\\x18eqtls/col0xdb1.eqtls.tsv\\x94\\x8c6aligned_data/diploid/col0xdb1.col0__vs__db1_genecounts\\x94e}\\x94(\\x8c\\x06_names\\x94}\\x94(\\x8c\\x04bams\\x94K\\x00K\\x01\\x86\\x94\\x8c\\tref_fasta\\x94K\\x01N\\x86\\x94\\x8c\\x0eparent2_fastas\\x94K\\x02K\\x03\\x86\\x94\\x8c\\x03gtf\\x94K\\x03N\\x86\\x94\\x8c\\x08cb_stats\\x94K\\x04N\\x86\\x94\\x8c\\ncrossovers\\x94K\\x05K\\x06\\x86\\x94\\x8c\\x05eqtls\\x94K\\x06N\\x86\\x94\\x8c\\x05exprs\\x94K\\x07K\\x08\\x86\\x94u\\x8c\\x12_allowed_overrides\\x94]\\x94(\\x8c\\x05index\\x94\\x8c\\x04sort\\x94eh'\\x8c\\tfunctools\\x94\\x8c\\x07partial\\x94\\x93\\x94h\\x06\\x8c\\x19Namedlist._used_attribute\\x94\\x93\\x94\\x85\\x94R\\x94(h-)}\\x94\\x8c\\x05_name\\x94h'sNt\\x94bh(h+h-\\x85\\x94R\\x94(h-)}\\x94h1h(sNt\\x94bh\\x15h\\x06\\x8c\\tNamedlist\\x94\\x93\\x94)\\x81\\x94h\\na}\\x94(h\\x13}\\x94h%]\\x94(h'h(eh'h+h-\\x85\\x94R\\x94(h-)}\\x94h1h'sNt\\x94bh(h+h-\\x85\\x94R\\x94(h-)}\\x94h1h(sNt\\x94bubh\\x17h\\x0bh\\x19h8)\\x81\\x94h\\x0ca}\\x94(h\\x13}\\x94h%]\\x94(h'h(eh'h+h-\\x85\\x94R\\x94(h-)}\\x94h1h'sNt\\x94bh(h+h-\\x85\\x94R\\x94(h-)}\\x94h1h(sNt\\x94bubh\\x1bh\\rh\\x1dh\\x0eh\\x1fh8)\\x81\\x94h\\x0fa}\\x94(h\\x13}\\x94h%]\\x94(h'h(eh'h+h-\\x85\\x94R\\x94(h-)}\\x94h1h'sNt\\x94bh(h+h-\\x85\\x94R\\x94(h-)}\\x94h1h(sNt\\x94bubh!h\\x10h#h8)\\x81\\x94h\\x11a}\\x94(h\\x13}\\x94h%]\\x94(h'h(eh'h+h-\\x85\\x94R\\x94(h-)}\\x94h1h'sNt\\x94bh(h+h-\\x85\\x94R\\x94(h-)}\\x94h1h(sNt\\x94bubub\\x8c\\x06output\\x94h\\x06\\x8c\\x0bOutputFiles\\x94\\x93\\x94)\\x81\\x94\\x8c figures/hotspot_figures_col0xdb1\\x94a}\\x94(h\\x13}\\x94\\x8c\\x07figures\\x94K\\x00N\\x86\\x94sh%]\\x94(h'h(eh'h+h-\\x85\\x94R\\x94(h-)}\\x94h1h'sNt\\x94bh(h+h-\\x85\\x94R\\x94(h-)}\\x94h1h(sNt\\x94bhphmub\\x8c\\x06params\\x94h\\x06\\x8c\\x06Params\\x94\\x93\\x94)\\x81\\x94}\\x94(h\\x13}\\x94h%]\\x94(h'h(eh'h+h-\\x85\\x94R\\x94(h-)}\\x94h1h'sNt\\x94bh(h+h-\\x85\\x94R\\x94(h-)}\\x94h1h(sNt\\x94bub\\x8c\\twildcards\\x94h\\x06\\x8c\\tWildcards\\x94\\x93\\x94)\\x81\\x94\\x8c\\x08col0xdb1\\x94a}\\x94(h\\x13}\\x94\\x8c\\x04cond\\x94K\\x00N\\x86\\x94sh%]\\x94(h'h(eh'h+h-\\x85\\x94R\\x94(h-)}\\x94h1h'sNt\\x94bh(h+h-\\x85\\x94R\\x94(h-)}\\x94h1h(sNt\\x94b\\x8c\\x04cond\\x94h\\x8eub\\x8c\\x07threads\\x94K\\x01\\x8c\\tresources\\x94h\\x06\\x8c\\tResources\\x94\\x93\\x94)\\x81\\x94(K\\x01K\\x01\\x8c\\x08/scratch\\x94e}\\x94(h\\x13}\\x94(\\x8c\\x06_cores\\x94K\\x00N\\x86\\x94\\x8c\\x06_nodes\\x94K\\x01N\\x86\\x94\\x8c\\x06tmpdir\\x94K\\x02N\\x86\\x94uh%]\\x94(h'h(eh'h+h-\\x85\\x94R\\x94(h-)}\\x94h1h'sNt\\x94bh(h+h-\\x85\\x94R\\x94(h-)}\\x94h1h(sNt\\x94bh\\xa5K\\x01h\\xa7K\\x01h\\xa9h\\xa2ub\\x8c\\x03log\\x94h\\x06\\x8c\\x03Log\\x94\\x93\\x94)\\x81\\x94}\\x94(h\\x13}\\x94h%]\\x94(h'h(eh'h+h-\\x85\\x94R\\x94(h-)}\\x94h1h'sNt\\x94bh(h+h-\\x85\\x94R\\x94(h-)}\\x94h1h(sNt\\x94bub\\x8c\\x06config\\x94}\\x94(\\x8c\\x12reference_genotype\\x94\\x8c\\x04col0\\x94\\x8c\\x08datasets\\x94}\\x94(\\x8c\\tcol0xmany\\x94}\\x94(\\x8c\\x12reference_genotype\\x94\\x8c\\x04col0\\x94\\x8c\\x12parent2_accessions\\x94]\\x94(\\x8c\\x03db1\\x94\\x8c\\x04kar1\\x94\\x8c\\nrubezhnoe1\\x94\\x8c\\x03ms0\\x94\\x8c\\x04tsu0\\x94eu\\x8c\\x08col0xdb1\\x94}\\x94(\\x8c\\x12reference_genotype\\x94\\x8c\\x04col0\\x94\\x8c\\x12parent2_accessions\\x94]\\x94\\x8c\\x03db1\\x94au\\x8c\\x08db1xcol0\\x94}\\x94(\\x8c\\x12reference_genotype\\x94\\x8c\\x03db1\\x94\\x8c\\x12parent2_accessions\\x94]\\x94\\x8c\\x04col0\\x94auu\\x8c\\x10genome_fasta_fns\\x94}\\x94(\\x8c\\x04col0\\x94\\x8c\\x19../annotations/col0_cc.fa\\x94\\x8c\\x03db1\\x94\\x8c\\x15../annotations/db1.fa\\x94\\x8c\\x04kar1\\x94\\x8c\\x16../annotations/kar1.fa\\x94\\x8c\\nrubezhnoe1\\x94\\x8c\\x1c../annotations/rubezhnoe1.fa\\x94\\x8c\\x03ms0\\x94\\x8c\\x15../annotations/ms0.fa\\x94\\x8c\\x04tsu0\\x94\\x8c\\x16../annotations/tsu0.fa\\x94u\\x8c\\x07gtf_fns\\x94}\\x94(\\x8c\\x04col0\\x94\\x8c\\x1a../annotations/col0_cc.gtf\\x94\\x8c\\x03db1\\x94\\x8c\\x16../annotations/db1.gtf\\x94u\\x8c\\x11barcode_whitelist\\x94\\x8c#../annotations/3M-february-2018.txt\\x94\\x8c\\x1aorganellar_genome_fasta_fn\\x94\\x8c\\x1c../annotations/organellar.fa\\x94\\x8c\\x11organellar_gtf_fn\\x94\\x8c\\x1d../annotations/organellar.gtf\\x94u\\x8c\\x04rule\\x94\\x8c\\x0fhotspot_figures\\x94\\x8c\\x0fbench_iteration\\x94N\\x8c\\tscriptdir\\x94\\x8c\\x81/netscratch/dep_mercier/grp_schneeberger/projects/Athal/Matt_snRNAseq_analysis/diploid_starsolo_pipeline/rules/notebook_templates\\x94ub.\"); from snakemake.logging import logger; logger.printshellcmds = True; import os; os.chdir(r'/netscratch/dep_mercier/grp_schneeberger/projects/Athal/Matt_snRNAseq_analysis/diploid_starsolo_pipeline/pipeline');\n",
    "######## snakemake preamble end #########\n"
   ]
  },
  {
   "cell_type": "code",
   "execution_count": 2,
   "id": "a7f1f02b",
   "metadata": {},
   "outputs": [
    {
     "data": {
      "image/png": "[encoded data removed]",
      "text/plain": [
       "<Figure size 700x100 with 1 Axes>"
      ]
     },
     "metadata": {},
     "output_type": "display_data"
    }
   ],
   "source": [
    "import sys\n",
    "import os\n",
    "import re\n",
    "from copy import copy\n",
    "from io import StringIO\n",
    "from glob import glob\n",
    "import random\n",
    "import itertools as it\n",
    "import warnings\n",
    "from collections import Counter, defaultdict\n",
    "from contextlib import contextmanager\n",
    "\n",
    "import numpy as np\n",
    "import pandas as pd\n",
    "from scipy import stats\n",
    "import statsmodels.api as sm\n",
    "from statsmodels.stats.multitest import fdrcorrection\n",
    "from sklearn.decomposition import PCA\n",
    "import matplotlib.pyplot as plt\n",
    "from matplotlib.colors import ListedColormap, Normalize\n",
    "from matplotlib.cm import ScalarMappable\n",
    "from matplotlib.patches import Rectangle\n",
    "from matplotlib_venn import venn3\n",
    "import seaborn as sns\n",
    "\n",
    "import pysam\n",
    "\n",
    "sys.path.extend([os.path.abspath('../scripts/')])\n",
    "\n",
    "from singlecell_snptools.io import parse_gene_positions\n",
    "from singlecell_snptools.eqtl import call_lod_peaks\n",
    "from singlecell_snptools.exprs import read_mmformat, lognormalise_exprs\n",
    "from singlecell_snptools.plot import chrom_axes_boilerplate, create_eqtl_plotter, create_haplotype_expression_plotter\n",
    "\n",
    "## Default plotting params\n",
    "\n",
    "%matplotlib inline\n",
    "sns.set(font='Arial')\n",
    "plt.rcParams['svg.fonttype'] = 'none'\n",
    "style = sns.axes_style('white')\n",
    "style.update(sns.axes_style('ticks'))\n",
    "style['xtick.major.size'] = 1\n",
    "style['ytick.major.size'] = 1\n",
    "sns.set(font_scale=1, style=style)\n",
    "pal = sns.color_palette(['#0072b2', '#d55e00', '#009e73', '#f0e442', '#cc79a7', '#56b4e9', '#e69f00'])\n",
    "cmap = ListedColormap(pal.as_hex())\n",
    "sns.set_palette(pal)\n",
    "sns.palplot(pal)\n",
    "plt.show()"
   ]
  },
  {
   "cell_type": "code",
   "execution_count": 3,
   "id": "fbf44cb6",
   "metadata": {},
   "outputs": [],
   "source": [
    "if not os.path.exists(snakemake.output[0]):\n",
    "    os.mkdir(snakemake.output[0])"
   ]
  },
  {
   "cell_type": "code",
   "execution_count": 4,
   "id": "b779e1c1",
   "metadata": {},
   "outputs": [],
   "source": [
    "snakemake.input.eqtls = 'eqtls/col0xdb1.all.eqtls.tsv'"
   ]
  },
  {
   "cell_type": "code",
   "execution_count": 5,
   "id": "a6717681",
   "metadata": {},
   "outputs": [
    {
     "data": {
      "text/html": [
       "<div>\n",
       "<style scoped>\n",
       "    .dataframe tbody tr th:only-of-type {\n",
       "        vertical-align: middle;\n",
       "    }\n",
       "\n",
       "    .dataframe tbody tr th {\n",
       "        vertical-align: top;\n",
       "    }\n",
       "\n",
       "    .dataframe thead th {\n",
       "        text-align: right;\n",
       "    }\n",
       "</style>\n",
       "<table border=\"1\" class=\"dataframe\">\n",
       "  <thead>\n",
       "    <tr style=\"text-align: right;\">\n",
       "      <th></th>\n",
       "      <th>chrom</th>\n",
       "      <th>pos</th>\n",
       "      <th>gene_id</th>\n",
       "      <th>lod_score</th>\n",
       "      <th>lrt_pval</th>\n",
       "      <th>hap2_pval</th>\n",
       "      <th>hap2_coef</th>\n",
       "      <th>cluster_lod_score</th>\n",
       "      <th>cluster_lrt_pval</th>\n",
       "      <th>hap2_x_cluster1_pval</th>\n",
       "      <th>hap2_x_cluster2_pval</th>\n",
       "      <th>hap2_x_cluster1_coef</th>\n",
       "      <th>hap2_x_cluster2_coef</th>\n",
       "    </tr>\n",
       "  </thead>\n",
       "  <tbody>\n",
       "    <tr>\n",
       "      <th>0</th>\n",
       "      <td>Chr1</td>\n",
       "      <td>0</td>\n",
       "      <td>AT1G01020</td>\n",
       "      <td>0.08102</td>\n",
       "      <td>1.000000e+00</td>\n",
       "      <td>1.000000e+00</td>\n",
       "      <td>0.004813</td>\n",
       "      <td>0.08102</td>\n",
       "      <td>1.000000e+00</td>\n",
       "      <td>1.000000e+00</td>\n",
       "      <td>1.00000</td>\n",
       "      <td>0.005559</td>\n",
       "      <td>0.000778</td>\n",
       "    </tr>\n",
       "    <tr>\n",
       "      <th>1</th>\n",
       "      <td>Chr1</td>\n",
       "      <td>0</td>\n",
       "      <td>AT1G01310</td>\n",
       "      <td>0.88060</td>\n",
       "      <td>1.000000e+00</td>\n",
       "      <td>1.000000e+00</td>\n",
       "      <td>0.022890</td>\n",
       "      <td>0.88060</td>\n",
       "      <td>1.000000e+00</td>\n",
       "      <td>1.000000e+00</td>\n",
       "      <td>0.05006</td>\n",
       "      <td>0.004234</td>\n",
       "      <td>0.139700</td>\n",
       "    </tr>\n",
       "    <tr>\n",
       "      <th>2</th>\n",
       "      <td>Chr1</td>\n",
       "      <td>0</td>\n",
       "      <td>AT1G01320</td>\n",
       "      <td>57.65000</td>\n",
       "      <td>6.020000e-55</td>\n",
       "      <td>6.408000e-55</td>\n",
       "      <td>0.440500</td>\n",
       "      <td>57.65000</td>\n",
       "      <td>6.020000e-55</td>\n",
       "      <td>6.135000e-63</td>\n",
       "      <td>1.00000</td>\n",
       "      <td>0.505000</td>\n",
       "      <td>0.040290</td>\n",
       "    </tr>\n",
       "    <tr>\n",
       "      <th>3</th>\n",
       "      <td>Chr1</td>\n",
       "      <td>0</td>\n",
       "      <td>AT1G01340</td>\n",
       "      <td>1.75500</td>\n",
       "      <td>1.000000e+00</td>\n",
       "      <td>1.000000e+00</td>\n",
       "      <td>-0.061750</td>\n",
       "      <td>1.75500</td>\n",
       "      <td>1.000000e+00</td>\n",
       "      <td>1.000000e+00</td>\n",
       "      <td>1.00000</td>\n",
       "      <td>-0.070290</td>\n",
       "      <td>-0.004695</td>\n",
       "    </tr>\n",
       "    <tr>\n",
       "      <th>4</th>\n",
       "      <td>Chr1</td>\n",
       "      <td>0</td>\n",
       "      <td>AT1G01460</td>\n",
       "      <td>0.08060</td>\n",
       "      <td>1.000000e+00</td>\n",
       "      <td>1.000000e+00</td>\n",
       "      <td>-0.005872</td>\n",
       "      <td>0.08060</td>\n",
       "      <td>1.000000e+00</td>\n",
       "      <td>1.000000e+00</td>\n",
       "      <td>1.00000</td>\n",
       "      <td>-0.011170</td>\n",
       "      <td>0.027490</td>\n",
       "    </tr>\n",
       "  </tbody>\n",
       "</table>\n",
       "</div>"
      ],
      "text/plain": [
       "  chrom  pos    gene_id  lod_score      lrt_pval     hap2_pval  hap2_coef  \\\n",
       "0  Chr1    0  AT1G01020    0.08102  1.000000e+00  1.000000e+00   0.004813   \n",
       "1  Chr1    0  AT1G01310    0.88060  1.000000e+00  1.000000e+00   0.022890   \n",
       "2  Chr1    0  AT1G01320   57.65000  6.020000e-55  6.408000e-55   0.440500   \n",
       "3  Chr1    0  AT1G01340    1.75500  1.000000e+00  1.000000e+00  -0.061750   \n",
       "4  Chr1    0  AT1G01460    0.08060  1.000000e+00  1.000000e+00  -0.005872   \n",
       "\n",
       "   cluster_lod_score  cluster_lrt_pval  hap2_x_cluster1_pval  \\\n",
       "0            0.08102      1.000000e+00          1.000000e+00   \n",
       "1            0.88060      1.000000e+00          1.000000e+00   \n",
       "2           57.65000      6.020000e-55          6.135000e-63   \n",
       "3            1.75500      1.000000e+00          1.000000e+00   \n",
       "4            0.08060      1.000000e+00          1.000000e+00   \n",
       "\n",
       "   hap2_x_cluster2_pval  hap2_x_cluster1_coef  hap2_x_cluster2_coef  \n",
       "0               1.00000              0.005559              0.000778  \n",
       "1               0.05006              0.004234              0.139700  \n",
       "2               1.00000              0.505000              0.040290  \n",
       "3               1.00000             -0.070290             -0.004695  \n",
       "4               1.00000             -0.011170              0.027490  "
      ]
     },
     "execution_count": 5,
     "metadata": {},
     "output_type": "execute_result"
    }
   ],
   "source": [
    "cb_stats = pd.read_csv(\n",
    "    snakemake.input.cb_stats,\n",
    "    header=0,\n",
    "    index_col=0,\n",
    "    sep='\\t',\n",
    ").query('cluster == \"hq\"')\n",
    "cb_stats['celltype_score'] = pd.read_csv(snakemake.input.eqtls.replace('eqtls.tsv', 'covars.tsv'), sep='\\t', index_col=0)['cluster1']\n",
    "cb_stats['celltype'] = (cb_stats['celltype_score'] > 0.5).map({False: 'Vegetative', True: 'Sperm'})\n",
    "cb_whitelist = sorted(cb_stats.index.tolist())\n",
    "\n",
    "exprs_mat, _ = lognormalise_exprs(read_mmformat(\n",
    "    snakemake.input.exprs,\n",
    "    cb_whitelist\n",
    "))\n",
    "\n",
    "hap_probs = pd.concat((\n",
    "    pd.read_csv(fn, sep='\\t', header=[0, 1], index_col=[0, 1])\n",
    "    for fn in snakemake.input.crossovers\n",
    "), axis=0)\n",
    "hap_probs.index = hap_probs.index.droplevel('fn_idx')\n",
    "\n",
    "eqtl_res = pd.read_csv(snakemake.input.eqtls, sep='\\t', dtype={'chrom': str})\n",
    "chrom_sizes = eqtl_res.groupby('chrom').pos.max().to_dict()\n",
    "sig_eqtl = call_lod_peaks(eqtl_res, snakemake.input.gtf)\n",
    "sig_eqtl_celltype = call_lod_peaks(eqtl_res, snakemake.input.gtf, cell_type_specific=True)\n",
    "sig_eqtl_celltype['cluster'] = sig_eqtl_celltype.eval('(hap2_x_cluster1_pval < 0.05) + (hap2_x_cluster2_pval < 0.05) * 2').map({0: 'Neither', 1: 'Sperm', 2: 'Vegetative', 3: 'Both'})\n",
    "eqtl_res.head()"
   ]
  },
  {
   "cell_type": "code",
   "execution_count": 6,
   "id": "63028073",
   "metadata": {},
   "outputs": [],
   "source": [
    "sperm_mask = sorted(cb_stats.query('celltype_score > 0.95 & prob_hq > 0.95 & nmarkers > 2.5').index.tolist())\n",
    "exprs_mat_sperm = exprs_mat.loc[:, sperm_mask]\n",
    "hap_probs_sperm = hap_probs.loc[sperm_mask]"
   ]
  },
  {
   "cell_type": "code",
   "execution_count": 7,
   "id": "3262a4ac",
   "metadata": {},
   "outputs": [
    {
     "data": {
      "text/plain": [
       "3331"
      ]
     },
     "execution_count": 7,
     "metadata": {},
     "output_type": "execute_result"
    }
   ],
   "source": [
    "len(sperm_mask)"
   ]
  },
  {
   "cell_type": "code",
   "execution_count": 8,
   "id": "d8166d24",
   "metadata": {},
   "outputs": [],
   "source": [
    "psv1_mask = set(sig_eqtl_celltype.query('~is_cis & chrom_eqtl == \"Chr1\" & start_eqtl <= 26.2e6 <= end_eqtl & cluster == \"Sperm\"').gene_id.unique().tolist())\n",
    "psv1_mask = sorted(psv1_mask.difference(sig_eqtl_celltype.query('is_cis').gene_id.unique()))\n",
    "exprs_mat_psv1 = exprs_mat_sperm.loc[psv1_mask]\n",
    "\n",
    "psv1_pca = PCA(n_components=5, svd_solver='arpack')\n",
    "psv1_comps = pd.DataFrame(\n",
    "    psv1_pca.fit_transform(exprs_mat_psv1.T),\n",
    "    columns=[f'PC{i}' for i in range(1, 6)],\n",
    "    index=exprs_mat_psv1.columns\n",
    ")"
   ]
  },
  {
   "cell_type": "code",
   "execution_count": 9,
   "id": "f6eb1cd5",
   "metadata": {},
   "outputs": [
    {
     "data": {
      "text/plain": [
       "398"
      ]
     },
     "execution_count": 9,
     "metadata": {},
     "output_type": "execute_result"
    }
   ],
   "source": [
    "len(psv1_mask)"
   ]
  },
  {
   "cell_type": "code",
   "execution_count": 10,
   "id": "cf70dfe5",
   "metadata": {},
   "outputs": [],
   "source": [
    "LOD = 2 * np.log(10)\n",
    "\n",
    "def haplotype_linear_model(pcs, hap_probs, covariates=None):\n",
    "    res = []\n",
    "    # generate nested models without haplotypes for likelihood ratio test\n",
    "    nested_models = {}\n",
    "    for pc, endog in pcs.items():\n",
    "        if covariates is not None:\n",
    "            all_covariates = sm.add_constant(pd.concat([pcs.loc[:, pcs.columns != pc], covariates], axis=1))\n",
    "        else:\n",
    "            all_covariates = sm.add_constant(pcs.loc[:, pcs.columns != pc])\n",
    "        m = sm.OLS(endog, all_covariates, hasconst=True).fit(disp=0)\n",
    "        nested_models[pc] = (m, all_covariates)\n",
    "    for (chrom, pos), haplo in hap_probs.items():\n",
    "        for pc, endog in pcs.items():\n",
    "            m_nest, covariates = nested_models[pc]\n",
    "            exog = pd.concat([haplo.rename('haplo').to_frame(), covariates], axis=1)\n",
    "            m_full = sm.OLS(endog, exog, hasconst=True).fit(disp=0)\n",
    "            lr, lrtest_pval, _ = m_full.compare_lr_test(m_nest)\n",
    "            res.append([chrom, int(pos), pc, lr / LOD, lrtest_pval])\n",
    "    res = pd.DataFrame(res, columns=['chrom', 'pos', 'gene_id',\n",
    "                                     'lod_score', 'lrt_pval'])\n",
    "    return res"
   ]
  },
  {
   "cell_type": "code",
   "execution_count": 11,
   "id": "3881b49e",
   "metadata": {},
   "outputs": [],
   "source": [
    "pc_qtl_res = haplotype_linear_model(psv1_comps, hap_probs_sperm)"
   ]
  },
  {
   "cell_type": "code",
   "execution_count": 12,
   "id": "26ac4c38",
   "metadata": {},
   "outputs": [],
   "source": [
    "pc_qtl_plotter = create_eqtl_plotter(\n",
    "    pc_qtl_res,\n",
    "    sig_eqtl=pd.DataFrame([], columns=['chrom_eqtl', 'pos_eqtl', 'chrom_gene', 'pos_gene', 'gene_id']),\n",
    "    gene_locs=None,\n",
    "    col_mapper={'lod_score': 'Db-1'},\n",
    "    palette=pal[:1],\n",
    "    lod_score=True\n",
    ")"
   ]
  },
  {
   "cell_type": "code",
   "execution_count": 13,
   "id": "2abe0c9f",
   "metadata": {},
   "outputs": [
    {
     "data": {
      "image/png": "[encoded data removed]",
      "text/plain": [
       "<Figure size 1200x350 with 5 Axes>"
      ]
     },
     "metadata": {},
     "output_type": "display_data"
    }
   ],
   "source": [
    "axes = pc_qtl_plotter('PC1')\n",
    "plt.savefig(os.path.join(snakemake.output[0], 'pc1_qtl_scatterplot.svg'))\n",
    "plt.show()"
   ]
  },
  {
   "cell_type": "code",
   "execution_count": 15,
   "id": "07c2aee7",
   "metadata": {},
   "outputs": [
    {
     "data": {
      "text/html": [
       "<div>\n",
       "<style scoped>\n",
       "    .dataframe tbody tr th:only-of-type {\n",
       "        vertical-align: middle;\n",
       "    }\n",
       "\n",
       "    .dataframe tbody tr th {\n",
       "        vertical-align: top;\n",
       "    }\n",
       "\n",
       "    .dataframe thead th {\n",
       "        text-align: right;\n",
       "    }\n",
       "</style>\n",
       "<table border=\"1\" class=\"dataframe\">\n",
       "  <thead>\n",
       "    <tr style=\"text-align: right;\">\n",
       "      <th></th>\n",
       "      <th>chrom</th>\n",
       "      <th>pos</th>\n",
       "      <th>gene_id</th>\n",
       "      <th>lod_score</th>\n",
       "      <th>lrt_pval</th>\n",
       "    </tr>\n",
       "  </thead>\n",
       "  <tbody>\n",
       "    <tr>\n",
       "      <th>5230</th>\n",
       "      <td>Chr1</td>\n",
       "      <td>26150000</td>\n",
       "      <td>PC1</td>\n",
       "      <td>840.725830</td>\n",
       "      <td>0.0</td>\n",
       "    </tr>\n",
       "    <tr>\n",
       "      <th>5235</th>\n",
       "      <td>Chr1</td>\n",
       "      <td>26175000</td>\n",
       "      <td>PC1</td>\n",
       "      <td>841.339009</td>\n",
       "      <td>0.0</td>\n",
       "    </tr>\n",
       "    <tr>\n",
       "      <th>5240</th>\n",
       "      <td>Chr1</td>\n",
       "      <td>26200000</td>\n",
       "      <td>PC1</td>\n",
       "      <td>840.606055</td>\n",
       "      <td>0.0</td>\n",
       "    </tr>\n",
       "  </tbody>\n",
       "</table>\n",
       "</div>"
      ],
      "text/plain": [
       "     chrom       pos gene_id   lod_score  lrt_pval\n",
       "5230  Chr1  26150000     PC1  840.725830       0.0\n",
       "5235  Chr1  26175000     PC1  841.339009       0.0\n",
       "5240  Chr1  26200000     PC1  840.606055       0.0"
      ]
     },
     "execution_count": 15,
     "metadata": {},
     "output_type": "execute_result"
    }
   ],
   "source": [
    "p = pc_qtl_res.query('gene_id == \"PC1\"').lod_score.max()\n",
    "pc_qtl_res.query('(@p - lod_score) < 1.5')"
   ]
  },
  {
   "cell_type": "code",
   "execution_count": 16,
   "id": "0e815b63",
   "metadata": {},
   "outputs": [
    {
     "data": {
      "image/png": "[encoded data removed]",
      "text/plain": [
       "<Figure size 200x200 with 1 Axes>"
      ]
     },
     "metadata": {},
     "output_type": "display_data"
    }
   ],
   "source": [
    "gene_locs = parse_gene_positions(snakemake.input.gtf)\n",
    "\n",
    "fig, ax = plt.subplots(figsize=(2, 2))\n",
    "peak = pc_qtl_res.query('chrom == \"Chr1\" & gene_id == \"PC1\" & 26e6 < pos < 26.3e6')\n",
    "sns.lineplot(\n",
    "    x='pos',\n",
    "    y='lod_score',\n",
    "    data=peak,\n",
    "    drawstyle='steps-post',\n",
    ")\n",
    "ax.axvspan(26_150_000, 26_225_000, color=\"#252525\", alpha=0.2, zorder=0)\n",
    "p = pc_qtl_res.query('gene_id == \"PC1\"').lod_score.max()\n",
    "ax.axhline(p - 1.5, color='#252525', alpha=0.5, ls='--', zorder=0)\n",
    "ax.axvspan(26_178_897, 26_185_081, color='#252525', alpha=0.5)\n",
    "ax.set_xlabel('Chr1 position (Mb)')\n",
    "ax.set_ylabel('LOD score')\n",
    "plt.savefig(os.path.join(snakemake.output[0], 'pc1_qtl_scatterplot_inset.svg'))"
   ]
  },
  {
   "cell_type": "code",
   "execution_count": null,
   "id": "375a457f",
   "metadata": {},
   "outputs": [],
   "source": []
  }
 ],
 "metadata": {
  "kernelspec": {
   "display_name": "Python [conda env:nb_rpy2]",
   "language": "python",
   "name": "conda-env-nb_rpy2-py"
  },
  "language_info": {
   "codemirror_mode": {
    "name": "ipython",
    "version": 3
   },
   "file_extension": ".py",
   "mimetype": "text/x-python",
   "name": "python",
   "nbconvert_exporter": "python",
   "pygments_lexer": "ipython3",
   "version": "3.10.11"
  }
 },
 "nbformat": 4,
 "nbformat_minor": 5
}
