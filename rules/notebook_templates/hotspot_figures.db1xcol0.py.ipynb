{
 "cells": [
  {
   "cell_type": "code",
   "execution_count": null,
   "id": "949a1783",
   "metadata": {
    "tags": [
     "snakemake-job-properties"
    ]
   },
   "outputs": [],
   "source": [
    "\n",
    "######## snakemake preamble start (automatically inserted, do not edit) ########\n",
    "import sys; sys.path.extend(['/netscratch/dep_mercier/grp_schneeberger/bin/bin_matt/conda_envs/snakemake8/lib/python3.12/site-packages', '/netscratch/dep_mercier/grp_schneeberger/projects/Athal/Matt_snRNAseq_analysis/diploid_starsolo_pipeline/pipeline/../rules', '/netscratch/dep_mercier/grp_schneeberger/projects/Athal/Matt_snRNAseq_analysis/diploid_starsolo_pipeline/pipeline', '/netscratch/dep_mercier/grp_schneeberger/bin/bin_matt/conda_envs/snakemake8/bin', '/netscratch/dep_mercier/grp_schneeberger/bin/bin_matt/conda_envs/snakemake8/lib/python3.12', '/netscratch/dep_mercier/grp_schneeberger/bin/bin_matt/conda_envs/snakemake8/lib/python3.12/lib-dynload', '/netscratch/dep_mercier/grp_schneeberger/bin/bin_matt/conda_envs/snakemake8/lib/python3.12/site-packages', '/netscratch/dep_mercier/grp_schneeberger/projects/Athal/Matt_snRNAseq_analysis/diploid_starsolo_pipeline/rules/notebook_templates']); import pickle; snakemake = pickle.loads(b\"\\x80\\x04\\x95X\\n\\x00\\x00\\x00\\x00\\x00\\x00\\x8c\\x10snakemake.script\\x94\\x8c\\tSnakemake\\x94\\x93\\x94)\\x81\\x94}\\x94(\\x8c\\x05input\\x94\\x8c\\x0csnakemake.io\\x94\\x8c\\nInputFiles\\x94\\x93\\x94)\\x81\\x94(\\x8c6aligned_data/diploid/db1xcol0.db1__vs__col0.sorted.bam\\x94\\x8c\\x15../annotations/db1.fa\\x94\\x8c\\x19../annotations/col0_cc.fa\\x94\\x8c\\x16../annotations/db1.gtf\\x94\\x8c\\x15cb_stats/db1xcol0.tsv\\x94\\x8c1cb_crossovers/db1xcol0.db1__vs__col0.co_probs.tsv\\x94\\x8c\\x18eqtls/db1xcol0.eqtls.tsv\\x94\\x8c6aligned_data/diploid/db1xcol0.db1__vs__col0_genecounts\\x94e}\\x94(\\x8c\\x06_names\\x94}\\x94(\\x8c\\x04bams\\x94K\\x00K\\x01\\x86\\x94\\x8c\\tref_fasta\\x94K\\x01N\\x86\\x94\\x8c\\x0eparent2_fastas\\x94K\\x02K\\x03\\x86\\x94\\x8c\\x03gtf\\x94K\\x03N\\x86\\x94\\x8c\\x08cb_stats\\x94K\\x04N\\x86\\x94\\x8c\\ncrossovers\\x94K\\x05K\\x06\\x86\\x94\\x8c\\x05eqtls\\x94K\\x06N\\x86\\x94\\x8c\\x05exprs\\x94K\\x07K\\x08\\x86\\x94u\\x8c\\x12_allowed_overrides\\x94]\\x94(\\x8c\\x05index\\x94\\x8c\\x04sort\\x94eh'\\x8c\\tfunctools\\x94\\x8c\\x07partial\\x94\\x93\\x94h\\x06\\x8c\\x19Namedlist._used_attribute\\x94\\x93\\x94\\x85\\x94R\\x94(h-)}\\x94\\x8c\\x05_name\\x94h'sNt\\x94bh(h+h-\\x85\\x94R\\x94(h-)}\\x94h1h(sNt\\x94bh\\x15h\\x06\\x8c\\tNamedlist\\x94\\x93\\x94)\\x81\\x94h\\na}\\x94(h\\x13}\\x94h%]\\x94(h'h(eh'h+h-\\x85\\x94R\\x94(h-)}\\x94h1h'sNt\\x94bh(h+h-\\x85\\x94R\\x94(h-)}\\x94h1h(sNt\\x94bubh\\x17h\\x0bh\\x19h8)\\x81\\x94h\\x0ca}\\x94(h\\x13}\\x94h%]\\x94(h'h(eh'h+h-\\x85\\x94R\\x94(h-)}\\x94h1h'sNt\\x94bh(h+h-\\x85\\x94R\\x94(h-)}\\x94h1h(sNt\\x94bubh\\x1bh\\rh\\x1dh\\x0eh\\x1fh8)\\x81\\x94h\\x0fa}\\x94(h\\x13}\\x94h%]\\x94(h'h(eh'h+h-\\x85\\x94R\\x94(h-)}\\x94h1h'sNt\\x94bh(h+h-\\x85\\x94R\\x94(h-)}\\x94h1h(sNt\\x94bubh!h\\x10h#h8)\\x81\\x94h\\x11a}\\x94(h\\x13}\\x94h%]\\x94(h'h(eh'h+h-\\x85\\x94R\\x94(h-)}\\x94h1h'sNt\\x94bh(h+h-\\x85\\x94R\\x94(h-)}\\x94h1h(sNt\\x94bubub\\x8c\\x06output\\x94h\\x06\\x8c\\x0bOutputFiles\\x94\\x93\\x94)\\x81\\x94\\x8c figures/hotspot_figures_db1xcol0\\x94a}\\x94(h\\x13}\\x94\\x8c\\x07figures\\x94K\\x00N\\x86\\x94sh%]\\x94(h'h(eh'h+h-\\x85\\x94R\\x94(h-)}\\x94h1h'sNt\\x94bh(h+h-\\x85\\x94R\\x94(h-)}\\x94h1h(sNt\\x94bhphmub\\x8c\\x06params\\x94h\\x06\\x8c\\x06Params\\x94\\x93\\x94)\\x81\\x94}\\x94(h\\x13}\\x94h%]\\x94(h'h(eh'h+h-\\x85\\x94R\\x94(h-)}\\x94h1h'sNt\\x94bh(h+h-\\x85\\x94R\\x94(h-)}\\x94h1h(sNt\\x94bub\\x8c\\twildcards\\x94h\\x06\\x8c\\tWildcards\\x94\\x93\\x94)\\x81\\x94\\x8c\\x08db1xcol0\\x94a}\\x94(h\\x13}\\x94\\x8c\\x04cond\\x94K\\x00N\\x86\\x94sh%]\\x94(h'h(eh'h+h-\\x85\\x94R\\x94(h-)}\\x94h1h'sNt\\x94bh(h+h-\\x85\\x94R\\x94(h-)}\\x94h1h(sNt\\x94b\\x8c\\x04cond\\x94h\\x8eub\\x8c\\x07threads\\x94K\\x01\\x8c\\tresources\\x94h\\x06\\x8c\\tResources\\x94\\x93\\x94)\\x81\\x94(K\\x01K\\x01\\x8c\\x08/scratch\\x94e}\\x94(h\\x13}\\x94(\\x8c\\x06_cores\\x94K\\x00N\\x86\\x94\\x8c\\x06_nodes\\x94K\\x01N\\x86\\x94\\x8c\\x06tmpdir\\x94K\\x02N\\x86\\x94uh%]\\x94(h'h(eh'h+h-\\x85\\x94R\\x94(h-)}\\x94h1h'sNt\\x94bh(h+h-\\x85\\x94R\\x94(h-)}\\x94h1h(sNt\\x94bh\\xa5K\\x01h\\xa7K\\x01h\\xa9h\\xa2ub\\x8c\\x03log\\x94h\\x06\\x8c\\x03Log\\x94\\x93\\x94)\\x81\\x94}\\x94(h\\x13}\\x94h%]\\x94(h'h(eh'h+h-\\x85\\x94R\\x94(h-)}\\x94h1h'sNt\\x94bh(h+h-\\x85\\x94R\\x94(h-)}\\x94h1h(sNt\\x94bub\\x8c\\x06config\\x94}\\x94(\\x8c\\x12reference_genotype\\x94\\x8c\\x04col0\\x94\\x8c\\x08datasets\\x94}\\x94(\\x8c\\tcol0xmany\\x94}\\x94(\\x8c\\x12reference_genotype\\x94\\x8c\\x04col0\\x94\\x8c\\x12parent2_accessions\\x94]\\x94(\\x8c\\x03db1\\x94\\x8c\\x04kar1\\x94\\x8c\\nrubezhnoe1\\x94\\x8c\\x03ms0\\x94\\x8c\\x04tsu0\\x94eu\\x8c\\x08col0xdb1\\x94}\\x94(\\x8c\\x12reference_genotype\\x94\\x8c\\x04col0\\x94\\x8c\\x12parent2_accessions\\x94]\\x94\\x8c\\x03db1\\x94au\\x8c\\x08db1xcol0\\x94}\\x94(\\x8c\\x12reference_genotype\\x94\\x8c\\x03db1\\x94\\x8c\\x12parent2_accessions\\x94]\\x94\\x8c\\x04col0\\x94auu\\x8c\\x10genome_fasta_fns\\x94}\\x94(\\x8c\\x04col0\\x94\\x8c\\x19../annotations/col0_cc.fa\\x94\\x8c\\x03db1\\x94\\x8c\\x15../annotations/db1.fa\\x94\\x8c\\x04kar1\\x94\\x8c\\x16../annotations/kar1.fa\\x94\\x8c\\nrubezhnoe1\\x94\\x8c\\x1c../annotations/rubezhnoe1.fa\\x94\\x8c\\x03ms0\\x94\\x8c\\x15../annotations/ms0.fa\\x94\\x8c\\x04tsu0\\x94\\x8c\\x16../annotations/tsu0.fa\\x94u\\x8c\\x07gtf_fns\\x94}\\x94(\\x8c\\x04col0\\x94\\x8c\\x1a../annotations/col0_cc.gtf\\x94\\x8c\\x03db1\\x94\\x8c\\x16../annotations/db1.gtf\\x94u\\x8c\\x11barcode_whitelist\\x94\\x8c#../annotations/3M-february-2018.txt\\x94\\x8c\\x1aorganellar_genome_fasta_fn\\x94\\x8c\\x1c../annotations/organellar.fa\\x94\\x8c\\x11organellar_gtf_fn\\x94\\x8c\\x1d../annotations/organellar.gtf\\x94u\\x8c\\x04rule\\x94\\x8c\\x0fhotspot_figures\\x94\\x8c\\x0fbench_iteration\\x94N\\x8c\\tscriptdir\\x94\\x8c\\x81/netscratch/dep_mercier/grp_schneeberger/projects/Athal/Matt_snRNAseq_analysis/diploid_starsolo_pipeline/rules/notebook_templates\\x94ub.\"); from snakemake.logging import logger; logger.printshellcmds = True; import os; os.chdir(r'/netscratch/dep_mercier/grp_schneeberger/projects/Athal/Matt_snRNAseq_analysis/diploid_starsolo_pipeline/pipeline');\n",
    "######## snakemake preamble end #########\n"
   ]
  },
  {
   "cell_type": "code",
   "execution_count": null,
   "id": "cd987324",
   "metadata": {},
   "outputs": [],
   "source": [
    "# start coding here"
   ]
  }
 ],
 "metadata": {
  "language_info": {
   "name": "python"
  }
 },
 "nbformat": 4,
 "nbformat_minor": 5
}