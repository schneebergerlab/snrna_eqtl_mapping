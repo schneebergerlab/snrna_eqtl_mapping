{
 "cells": [
  {
   "cell_type": "code",
   "execution_count": 1,
   "id": "4cae1ea0",
   "metadata": {
    "tags": [
     "snakemake-job-properties"
    ]
   },
   "outputs": [],
   "source": [
    "\n",
    "######## snakemake preamble start (automatically inserted, do not edit) ########\n",
    "import sys; sys.path.extend(['/netscratch/dep_mercier/grp_schneeberger/bin/bin_matt/conda_envs/snakemake8/lib/python3.12/site-packages', '/netscratch/dep_mercier/grp_schneeberger/projects/Athal/Matt_snRNAseq_analysis/diploid_starsolo_pipeline/pipeline/../rules', '/netscratch/dep_mercier/grp_schneeberger/projects/Athal/Matt_snRNAseq_analysis/diploid_starsolo_pipeline/pipeline', '/netscratch/dep_mercier/grp_schneeberger/bin/bin_matt/conda_envs/snakemake8/bin', '/netscratch/dep_mercier/grp_schneeberger/bin/bin_matt/conda_envs/snakemake8/lib/python3.12', '/netscratch/dep_mercier/grp_schneeberger/bin/bin_matt/conda_envs/snakemake8/lib/python3.12/lib-dynload', '/netscratch/dep_mercier/grp_schneeberger/bin/bin_matt/conda_envs/snakemake8/lib/python3.12/site-packages', '/netscratch/dep_mercier/grp_schneeberger/projects/Athal/Matt_snRNAseq_analysis/diploid_starsolo_pipeline/rules/notebook_templates']); import pickle; snakemake = pickle.loads(b\"\\x80\\x04\\x95b\\n\\x00\\x00\\x00\\x00\\x00\\x00\\x8c\\x10snakemake.script\\x94\\x8c\\tSnakemake\\x94\\x93\\x94)\\x81\\x94}\\x94(\\x8c\\x05input\\x94\\x8c\\x0csnakemake.io\\x94\\x8c\\nInputFiles\\x94\\x93\\x94)\\x81\\x94(\\x8c6aligned_data/diploid/col0xdb1.col0__vs__db1.sorted.bam\\x94\\x8c\\x19../annotations/col0_cc.fa\\x94\\x8c\\x15../annotations/db1.fa\\x94\\x8c\\x1a../annotations/col0_cc.gtf\\x94\\x8c\\x15cb_stats/col0xdb1.tsv\\x94\\x8c1cb_crossovers/col0xdb1.col0__vs__db1.co_probs.tsv\\x94\\x8c\\x18eqtls/col0xdb1.eqtls.tsv\\x94\\x8c6aligned_data/diploid/col0xdb1.col0__vs__db1_genecounts\\x94e}\\x94(\\x8c\\x06_names\\x94}\\x94(\\x8c\\x04bams\\x94K\\x00K\\x01\\x86\\x94\\x8c\\tref_fasta\\x94K\\x01N\\x86\\x94\\x8c\\x0eparent2_fastas\\x94K\\x02K\\x03\\x86\\x94\\x8c\\x03gtf\\x94K\\x03N\\x86\\x94\\x8c\\x08cb_stats\\x94K\\x04N\\x86\\x94\\x8c\\ncrossovers\\x94K\\x05K\\x06\\x86\\x94\\x8c\\x05eqtls\\x94K\\x06N\\x86\\x94\\x8c\\x05exprs\\x94K\\x07K\\x08\\x86\\x94u\\x8c\\x12_allowed_overrides\\x94]\\x94(\\x8c\\x05index\\x94\\x8c\\x04sort\\x94eh'\\x8c\\tfunctools\\x94\\x8c\\x07partial\\x94\\x93\\x94h\\x06\\x8c\\x19Namedlist._used_attribute\\x94\\x93\\x94\\x85\\x94R\\x94(h-)}\\x94\\x8c\\x05_name\\x94h'sNt\\x94bh(h+h-\\x85\\x94R\\x94(h-)}\\x94h1h(sNt\\x94bh\\x15h\\x06\\x8c\\tNamedlist\\x94\\x93\\x94)\\x81\\x94h\\na}\\x94(h\\x13}\\x94h%]\\x94(h'h(eh'h+h-\\x85\\x94R\\x94(h-)}\\x94h1h'sNt\\x94bh(h+h-\\x85\\x94R\\x94(h-)}\\x94h1h(sNt\\x94bubh\\x17h\\x0bh\\x19h8)\\x81\\x94h\\x0ca}\\x94(h\\x13}\\x94h%]\\x94(h'h(eh'h+h-\\x85\\x94R\\x94(h-)}\\x94h1h'sNt\\x94bh(h+h-\\x85\\x94R\\x94(h-)}\\x94h1h(sNt\\x94bubh\\x1bh\\rh\\x1dh\\x0eh\\x1fh8)\\x81\\x94h\\x0fa}\\x94(h\\x13}\\x94h%]\\x94(h'h(eh'h+h-\\x85\\x94R\\x94(h-)}\\x94h1h'sNt\\x94bh(h+h-\\x85\\x94R\\x94(h-)}\\x94h1h(sNt\\x94bubh!h\\x10h#h8)\\x81\\x94h\\x11a}\\x94(h\\x13}\\x94h%]\\x94(h'h(eh'h+h-\\x85\\x94R\\x94(h-)}\\x94h1h'sNt\\x94bh(h+h-\\x85\\x94R\\x94(h-)}\\x94h1h(sNt\\x94bubub\\x8c\\x06output\\x94h\\x06\\x8c\\x0bOutputFiles\\x94\\x93\\x94)\\x81\\x94\\x8c#figures/genotyping_figures_col0xdb1\\x94a}\\x94(h\\x13}\\x94\\x8c\\x07figures\\x94K\\x00N\\x86\\x94sh%]\\x94(h'h(eh'h+h-\\x85\\x94R\\x94(h-)}\\x94h1h'sNt\\x94bh(h+h-\\x85\\x94R\\x94(h-)}\\x94h1h(sNt\\x94bhphmub\\x8c\\x06params\\x94h\\x06\\x8c\\x06Params\\x94\\x93\\x94)\\x81\\x94}\\x94(h\\x13}\\x94h%]\\x94(h'h(eh'h+h-\\x85\\x94R\\x94(h-)}\\x94h1h'sNt\\x94bh(h+h-\\x85\\x94R\\x94(h-)}\\x94h1h(sNt\\x94bub\\x8c\\twildcards\\x94h\\x06\\x8c\\tWildcards\\x94\\x93\\x94)\\x81\\x94\\x8c\\x08col0xdb1\\x94a}\\x94(h\\x13}\\x94\\x8c\\x04cond\\x94K\\x00N\\x86\\x94sh%]\\x94(h'h(eh'h+h-\\x85\\x94R\\x94(h-)}\\x94h1h'sNt\\x94bh(h+h-\\x85\\x94R\\x94(h-)}\\x94h1h(sNt\\x94b\\x8c\\x04cond\\x94h\\x8eub\\x8c\\x07threads\\x94K\\x01\\x8c\\tresources\\x94h\\x06\\x8c\\tResources\\x94\\x93\\x94)\\x81\\x94(K\\x01K\\x01\\x8c\\x08/scratch\\x94e}\\x94(h\\x13}\\x94(\\x8c\\x06_cores\\x94K\\x00N\\x86\\x94\\x8c\\x06_nodes\\x94K\\x01N\\x86\\x94\\x8c\\x06tmpdir\\x94K\\x02N\\x86\\x94uh%]\\x94(h'h(eh'h+h-\\x85\\x94R\\x94(h-)}\\x94h1h'sNt\\x94bh(h+h-\\x85\\x94R\\x94(h-)}\\x94h1h(sNt\\x94bh\\xa5K\\x01h\\xa7K\\x01h\\xa9h\\xa2ub\\x8c\\x03log\\x94h\\x06\\x8c\\x03Log\\x94\\x93\\x94)\\x81\\x94}\\x94(h\\x13}\\x94h%]\\x94(h'h(eh'h+h-\\x85\\x94R\\x94(h-)}\\x94h1h'sNt\\x94bh(h+h-\\x85\\x94R\\x94(h-)}\\x94h1h(sNt\\x94bub\\x8c\\x06config\\x94}\\x94(\\x8c\\x12reference_genotype\\x94\\x8c\\x04col0\\x94\\x8c\\x08datasets\\x94}\\x94(\\x8c\\tcol0xmany\\x94}\\x94(\\x8c\\x12reference_genotype\\x94\\x8c\\x04col0\\x94\\x8c\\x12parent2_accessions\\x94]\\x94(\\x8c\\x03db1\\x94\\x8c\\x04kar1\\x94\\x8c\\nrubezhnoe1\\x94\\x8c\\x03ms0\\x94\\x8c\\x04tsu0\\x94eu\\x8c\\x08col0xdb1\\x94}\\x94(\\x8c\\x12reference_genotype\\x94\\x8c\\x04col0\\x94\\x8c\\x12parent2_accessions\\x94]\\x94\\x8c\\x03db1\\x94au\\x8c\\x08db1xcol0\\x94}\\x94(\\x8c\\x12reference_genotype\\x94\\x8c\\x03db1\\x94\\x8c\\x12parent2_accessions\\x94]\\x94\\x8c\\x04col0\\x94auu\\x8c\\x10genome_fasta_fns\\x94}\\x94(\\x8c\\x04col0\\x94\\x8c\\x19../annotations/col0_cc.fa\\x94\\x8c\\x03db1\\x94\\x8c\\x15../annotations/db1.fa\\x94\\x8c\\x04kar1\\x94\\x8c\\x16../annotations/kar1.fa\\x94\\x8c\\nrubezhnoe1\\x94\\x8c\\x1c../annotations/rubezhnoe1.fa\\x94\\x8c\\x03ms0\\x94\\x8c\\x15../annotations/ms0.fa\\x94\\x8c\\x04tsu0\\x94\\x8c\\x16../annotations/tsu0.fa\\x94u\\x8c\\x07gtf_fns\\x94}\\x94(\\x8c\\x04col0\\x94\\x8c\\x1a../annotations/col0_cc.gtf\\x94\\x8c\\x03db1\\x94\\x8c\\x16../annotations/db1.gtf\\x94u\\x8c\\x11barcode_whitelist\\x94\\x8c#../annotations/3M-february-2018.txt\\x94\\x8c\\x1aorganellar_genome_fasta_fn\\x94\\x8c\\x1c../annotations/organellar.fa\\x94\\x8c\\x11organellar_gtf_fn\\x94\\x8c\\x1d../annotations/organellar.gtf\\x94u\\x8c\\x04rule\\x94\\x8c\\x12genotyping_figures\\x94\\x8c\\x0fbench_iteration\\x94N\\x8c\\tscriptdir\\x94\\x8c\\x81/netscratch/dep_mercier/grp_schneeberger/projects/Athal/Matt_snRNAseq_analysis/diploid_starsolo_pipeline/rules/notebook_templates\\x94ub.\"); from snakemake.logging import logger; logger.printshellcmds = True; import os; os.chdir(r'/netscratch/dep_mercier/grp_schneeberger/projects/Athal/Matt_snRNAseq_analysis/diploid_starsolo_pipeline/pipeline');\n",
    "######## snakemake preamble end #########\n"
   ]
  },
  {
   "cell_type": "code",
   "execution_count": 2,
   "id": "686fbad4",
   "metadata": {},
   "outputs": [
    {
     "data": {
      "image/png": "[encoded data removed]",
      "text/plain": [
       "<Figure size 700x100 with 1 Axes>"
      ]
     },
     "metadata": {},
     "output_type": "display_data"
    }
   ],
   "source": [
    "import sys\n",
    "import os\n",
    "import re\n",
    "from glob import glob\n",
    "import random\n",
    "import itertools as it\n",
    "import warnings\n",
    "from collections import Counter\n",
    "\n",
    "import numpy as np\n",
    "import pandas as pd\n",
    "from scipy import stats\n",
    "from scipy.io import mmread\n",
    "import matplotlib.pyplot as plt\n",
    "from matplotlib.colors import ListedColormap\n",
    "import seaborn as sns\n",
    "import statsmodels.api as sm\n",
    "from sklearn.decomposition import PCA\n",
    "from sklearn.manifold import TSNE\n",
    "from sklearn.cluster import KMeans\n",
    "from sklearn.mixture import GaussianMixture\n",
    "\n",
    "\n",
    "## Default plotting params\n",
    "\n",
    "%matplotlib inline\n",
    "sns.set(font='Arial')\n",
    "plt.rcParams['svg.fonttype'] = 'none'\n",
    "style = sns.axes_style('white')\n",
    "style.update(sns.axes_style('ticks'))\n",
    "style['xtick.major.size'] = 1\n",
    "style['ytick.major.size'] = 1\n",
    "sns.set(font_scale=1, style=style)\n",
    "pal = sns.color_palette(['#0072b2', '#d55e00', '#009e73', '#f0e442', '#cc79a7', '#56b4e9', '#e69f00'])\n",
    "cmap = ListedColormap(pal.as_hex())\n",
    "sns.set_palette(pal)\n",
    "sns.palplot(pal)\n",
    "plt.show()"
   ]
  },
  {
   "cell_type": "code",
   "execution_count": null,
   "id": "9510956c",
   "metadata": {},
   "outputs": [],
   "source": []
  }
 ],
 "metadata": {
  "kernelspec": {
   "display_name": "Python [conda env:nb_rpy2]",
   "language": "python",
   "name": "conda-env-nb_rpy2-py"
  },
  "language_info": {
   "codemirror_mode": {
    "name": "ipython",
    "version": 3
   },
   "file_extension": ".py",
   "mimetype": "text/x-python",
   "name": "python",
   "nbconvert_exporter": "python",
   "pygments_lexer": "ipython3",
   "version": "3.10.11"
  }
 },
 "nbformat": 4,
 "nbformat_minor": 5
}
